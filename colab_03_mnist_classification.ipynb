{
 "cells": [
  {
   "cell_type": "markdown",
   "metadata": {},
   "source": [
    "# MNIST + Convolutional Neural Network\n",
    "In this notebook we will train a simple convolutional neural networks (CNNs) for classifying hand-written digit images from MNIST data set.  We assume you already know how to access MNIST data set using tensorflow API.\n",
    "\n",
    "**<font color=\"red\">Warning</font>**\n",
    "If you already know higher level APIs like [keras](https://keras.io) and [slim](https://github.com/tensorflow/tensorflow/tree/master/tensorflow/contrib/slim) (if you don't, ignore this warning), you see we avoid using them in this notebook purely for educational purpose. You can see the [next tutorial](http://deeplearnphysics.org/Blog/colab-tutorials/2018-03-02-Colab-04-MNIST-Classification-Slim.html) instead.\n",
    "\n",
    "### Preparation?\n",
    "You can run this notebook on [google colaboratory](https://colab.research.google.com) with a free K80 GPU. If you are not familiar with MNIST, you can look at [this example](http://deeplearnphysics.org/Blog/colab-tutorials/2018-03-02-Colab-02-MNIST.html). If usefl, also [here](http://deeplearnphysics.org/Blog/colab-tutorials/2018-03-02-Colab-01-TFIntro.html) is tensorflow introduction."
   ]
  },
  {
   "cell_type": "code",
   "execution_count": 1,
   "metadata": {},
   "outputs": [
    {
     "name": "stdout",
     "output_type": "stream",
     "text": [
      "Extracting MNIST_data/train-images-idx3-ubyte.gz\n",
      "Extracting MNIST_data/train-labels-idx1-ubyte.gz\n",
      "Extracting MNIST_data/t10k-images-idx3-ubyte.gz\n",
      "Extracting MNIST_data/t10k-labels-idx1-ubyte.gz\n"
     ]
    }
   ],
   "source": [
    "# Import tensorflow\n",
    "import tensorflow as tf\n",
    "# Import tensorflow's MNIST data handle\n",
    "from tensorflow.examples.tutorials.mnist import input_data\n",
    "mnist = input_data.read_data_sets('MNIST_data', one_hot=True)"
   ]
  },
  {
   "cell_type": "markdown",
   "metadata": {},
   "source": [
    "We use a pedantic way to construct a computational graph in this notebook because it is more educational. Just remember that you can use a higher level APIs (tf.layers, tf.contrib.slim, keras, etc.) to make an equivalent or more complicated computation graph with much less number of steps.\n",
    "\n",
    "## Define layers: convolution, pooling, and fully-connected \n",
    "We will use 3 type of layers (convolution, pooling, and fully-connected layers), and there will be multiple instance of each type. To avoid typing too many texts, it is a common practice to define a function that can create a layer with a few parameters. "
   ]
  },
  {
   "cell_type": "code",
   "execution_count": 2,
   "metadata": {
    "collapsed": true
   },
   "outputs": [],
   "source": [
    "# Import xavier_initializer, a type of initializer we will use for weights\n",
    "from tensorflow.contrib.layers import xavier_initializer\n",
    "\n",
    "# Convolution layer\n",
    "def conv2d(input_tensor, name, num_filter, kernel, stride):\n",
    "    # From the input tensor, get the number of feature maps\n",
    "    # The shape of an input tensor is [N,H,W,C] where...\n",
    "    #    N = number of images in 1 batch\n",
    "    #    H = height of input tensor\n",
    "    #    W = width of input tensor\n",
    "    #    C = channel count of input tensor\n",
    "    # The number of feture maps = C, so we access the last element\n",
    "    num_input = input_tensor.get_shape()[-1].value\n",
    "\n",
    "    # Create graph nodes within this layer's scope\n",
    "    with tf.variable_scope(name):\n",
    "        # Create the weights for all neurons (filters)\n",
    "        weights = tf.get_variable(name='%s_weights' % name,\n",
    "                                  shape=[kernel[0],kernel[1],num_input,num_filter],\n",
    "                                  dtype=tf.float32,\n",
    "                                  initializer=xavier_initializer())\n",
    "        # Create the biases for all neurons (filters)\n",
    "        biases  = tf.get_variable(name='%s_biases' % name,\n",
    "                                  shape=[num_filter],\n",
    "                                  dtype=tf.float32,\n",
    "                                  initializer=tf.constant_initializer(0.1))\n",
    "        # Define convolution operation using weights\n",
    "        conv = tf.nn.conv2d(input=input_tensor,\n",
    "                            filter=weights,\n",
    "                            strides=(1, stride[0], stride[1], 1),\n",
    "                            padding='SAME')\n",
    "        \n",
    "        # Define activation operation with an argument = neuron sum\n",
    "        activation = tf.nn.relu(tf.nn.bias_add(conv, biases))\n",
    "\n",
    "        # Register variables to be monitored in tensorboard\n",
    "        tf.summary.histogram('%s_weights' % name, weights)\n",
    "        tf.summary.histogram('%s_biases' % name, biases)\n",
    "        tf.summary.histogram('%s_activation' % name, activation)\n",
    "\n",
    "    return activation\n",
    "    \n",
    "# Pooling layer\n",
    "def max_pool(input_tensor,name,kernel,stride):\n",
    "    # Create graph nodes within this layer's scope\n",
    "    with tf.variable_scope(name):\n",
    "\n",
    "        pool = tf.nn.max_pool(value=input_tensor,\n",
    "                              ksize=[1, kernel[0], kernel[1], 1],\n",
    "                              strides=[1, stride[0], stride[1], 1],\n",
    "                              padding='SAME')\n",
    "    return pool\n",
    "\n",
    "# Fully connected layer\n",
    "def fully_connected(input_tensor, name, num_output, activation=None):\n",
    "    # Flatten the input tensor to 1D array \n",
    "    shape=input_tensor.get_shape()\n",
    "    flat_size = 1\n",
    "    for index in range(len(shape)-1):\n",
    "        flat_size *= shape[1-len(shape)+index].value\n",
    "    input_tensor = tf.reshape(input_tensor, [-1,flat_size])\n",
    "\n",
    "    # Create graph nodes within this layer's scope\n",
    "    with tf.variable_scope(name):\n",
    "        # Weights for neurons\n",
    "        weights = tf.get_variable(name='%s_weights' % name,\n",
    "                                  shape=[input_tensor.get_shape()[-1].value, num_output],\n",
    "                                  dtype=tf.float32,\n",
    "                                  initializer=xavier_initializer())\n",
    "        # Biases for neurons\n",
    "        biases  = tf.get_variable(name='%s_biases' % name,\n",
    "                                  shape=[num_output],\n",
    "                                  dtype=tf.float32,\n",
    "                                  initializer=tf.constant_initializer(0.1))\n",
    "        \n",
    "        # Compute neuron sums\n",
    "        result = tf.matmul(input_tensor,weights) + biases\n",
    "        \n",
    "        # Activation\n",
    "        if activation:\n",
    "            result = activation(result)\n",
    "        \n",
    "        # Register variables to be monitored in tensorboard\n",
    "        tf.summary.histogram('%s_weights' % name, weights)\n",
    "        tf.summary.histogram('%s_biases' % name, biases)\n",
    "\n",
    "    return result"
   ]
  },
  {
   "cell_type": "markdown",
   "metadata": {},
   "source": [
    "## Design the network\n",
    "By having those functions defining the details, now we can have a simple description of the overall network design. Let's first define our input place holders. They serve to feed input data image, correct prediction labels, and also a dropout fraction for a fully connected layer."
   ]
  },
  {
   "cell_type": "code",
   "execution_count": 3,
   "metadata": {
    "collapsed": true
   },
   "outputs": [],
   "source": [
    "# Network inputs\n",
    "with tf.variable_scope('input'):\n",
    "    images    = tf.placeholder(tf.float32, shape=[None, 784])\n",
    "    labels    = tf.placeholder(tf.float32, shape=[None, 10])\n",
    "    keep_prob = tf.placeholder(tf.float32)\n",
    "    \n",
    "    image2d   = tf.reshape(images, [-1, 28, 28, 1])\n",
    "    # Record a random 10 samples of images in monitoring\n",
    "    tf.summary.image('images',image2d,10)"
   ]
  },
  {
   "cell_type": "markdown",
   "metadata": {},
   "source": [
    "Here's the full design of the network. It is important to try keeping this trivial so that your friends can have an abstract understanding quickly."
   ]
  },
  {
   "cell_type": "code",
   "execution_count": 4,
   "metadata": {
    "collapsed": true
   },
   "outputs": [],
   "source": [
    "# Design a network\n",
    "def build(input_tensor, debug=False):\n",
    "    # Design a network\n",
    "    \n",
    "    # Convolution 1\n",
    "    conv1 = conv2d   (input_tensor, 'conv1', 32, [5,5], [1,1])\n",
    "    # Pooling 1\n",
    "    pool1 = max_pool (conv1,        'pool1',     [2,2], [2,2])\n",
    "    # Convolution 2\n",
    "    conv2 = conv2d   (pool1,        'conv2', 64, [5,5], [1,1])\n",
    "    # Pooling 2\n",
    "    pool2 = max_pool (conv2,        'pool2',     [2,2], [2,2])\n",
    "\n",
    "    # FC1\n",
    "    fc1 = fully_connected(pool2, 'fc1', 1024, tf.nn.relu)\n",
    "    with tf.variable_scope('drop_out'):\n",
    "        drop = tf.nn.dropout(fc1, keep_prob)\n",
    "    # FC2\n",
    "    fc2 = fully_connected(drop, 'fc2', 10)\n",
    "    \n",
    "    # Dimension check if debug is True\n",
    "    if debug:\n",
    "        print('Input shape:', input_tensor.shape )\n",
    "        print('After conv1:', conv1.shape        )\n",
    "        print('After pool1:', pool1.shape        )\n",
    "        print('After conv2:', conv2.shape        )\n",
    "        print('After pool2:', pool2.shape        )\n",
    "        print('After fc1  :', fc1.shape          )\n",
    "        print('After fc2  :', fc2.shape          )\n",
    "        \n",
    "    return fc2    "
   ]
  },
  {
   "cell_type": "markdown",
   "metadata": {},
   "source": [
    "Let's now build it! We enable the debug flag to print out the dimensionality here."
   ]
  },
  {
   "cell_type": "code",
   "execution_count": 5,
   "metadata": {},
   "outputs": [
    {
     "name": "stdout",
     "output_type": "stream",
     "text": [
      "('Input shape:', TensorShape([Dimension(None), Dimension(28), Dimension(28), Dimension(1)]))\n",
      "('After conv1:', TensorShape([Dimension(None), Dimension(28), Dimension(28), Dimension(32)]))\n",
      "('After pool1:', TensorShape([Dimension(None), Dimension(14), Dimension(14), Dimension(32)]))\n",
      "('After conv2:', TensorShape([Dimension(None), Dimension(14), Dimension(14), Dimension(64)]))\n",
      "('After pool2:', TensorShape([Dimension(None), Dimension(7), Dimension(7), Dimension(64)]))\n",
      "('After fc1  :', TensorShape([Dimension(None), Dimension(1024)]))\n",
      "('After fc2  :', TensorShape([Dimension(None), Dimension(10)]))\n"
     ]
    }
   ],
   "source": [
    "net = build(image2d, debug=True)"
   ]
  },
  {
   "cell_type": "markdown",
   "metadata": {},
   "source": [
    "## Define loss and optimizer\n",
    "The final step before training... is to define a train step operation! Below we define our loss using softmax (multinominal logistic regression) and we use AdamOptimizer. There is no special reason for this choice. Feel free to try out different optimizers!\n"
   ]
  },
  {
   "cell_type": "code",
   "execution_count": 6,
   "metadata": {
    "collapsed": true,
    "scrolled": false
   },
   "outputs": [],
   "source": [
    "# Train operations\n",
    "with tf.variable_scope(\"train\"):\n",
    "    loss = tf.reduce_mean(tf.nn.softmax_cross_entropy_with_logits(labels=labels, logits=net))\n",
    "    train_step = tf.train.AdamOptimizer(1e-4).minimize(loss)\n",
    "    \n",
    "    correct_prediction = tf.equal(tf.argmax(net, 1), tf.argmax(labels, 1))\n",
    "    accuracy = tf.reduce_mean(tf.cast(correct_prediction, tf.float32))\n",
    "    \n",
    "    # Monitor these loss and accuracy during training\n",
    "    tf.summary.scalar('loss',loss)\n",
    "    tf.summary.scalar('accuracy',accuracy)"
   ]
  },
  {
   "cell_type": "markdown",
   "metadata": {},
   "source": [
    "## Create a session and tensorboard log\n",
    "Finally, we are almost ready for the training. Let's create a session + log writer that can record everything we added to tf.summary into the training log. We will visualize it later using tensorboard."
   ]
  },
  {
   "cell_type": "code",
   "execution_count": 7,
   "metadata": {
    "collapsed": true,
    "scrolled": false
   },
   "outputs": [],
   "source": [
    "# Define a session\n",
    "sess = tf.InteractiveSession()\n",
    "\n",
    "# Create log monitor\n",
    "import os\n",
    "if not os.path.isdir('tb_log'): os.makedirs('tb_log')\n",
    "log_writer = tf.summary.FileWriter('tb_log')\n",
    "log_writer.add_graph(sess.graph)\n",
    "summary_op = tf.summary.merge_all()"
   ]
  },
  {
   "cell_type": "markdown",
   "metadata": {},
   "source": [
    "## Train\n",
    "Ready? Here's the training loop!"
   ]
  },
  {
   "cell_type": "code",
   "execution_count": 8,
   "metadata": {},
   "outputs": [
    {
     "name": "stdout",
     "output_type": "stream",
     "text": [
      "step 0, training accuracy 0\n",
      "step 100, training accuracy 0.72\n",
      "step 200, training accuracy 0.9\n",
      "step 300, training accuracy 0.88\n",
      "step 400, training accuracy 0.98\n",
      "step 500, training accuracy 0.98\n",
      "step 600, training accuracy 0.96\n",
      "step 700, training accuracy 0.94\n",
      "step 800, training accuracy 0.94\n",
      "step 900, training accuracy 0.88\n",
      "step 1000, training accuracy 0.98\n",
      "step 1100, training accuracy 0.96\n",
      "step 1200, training accuracy 1\n",
      "step 1300, training accuracy 0.92\n",
      "step 1400, training accuracy 1\n",
      "step 1500, training accuracy 1\n",
      "step 1600, training accuracy 0.98\n",
      "step 1700, training accuracy 0.96\n",
      "step 1800, training accuracy 1\n",
      "step 1900, training accuracy 1\n",
      "test accuracy 0.9791\n",
      "23.5245790482\n"
     ]
    }
   ],
   "source": [
    "# Let's time this\n",
    "import time\n",
    "start = time.time()\n",
    "\n",
    "# Ready! initialize and train for 5000 steps\n",
    "sess.run(tf.global_variables_initializer())\n",
    "for i in range(2000):\n",
    "\n",
    "    # Fetch data of 50 images\n",
    "    batch = mnist.train.next_batch(50)\n",
    "\n",
    "    # Every 100 steps, compute & print the accuracy of the network's prediction\n",
    "    if i % 100 == 0:\n",
    "        train_accuracy = sess.run(accuracy, feed_dict={images: batch[0], labels: batch[1], keep_prob: 1.0})\n",
    "        print('step %d, training accuracy %g' % (i, train_accuracy))\n",
    "    \n",
    "    # Every 20 steps, compute & record tensorboard log\n",
    "    if i % 20 == 0:\n",
    "        s = sess.run(summary_op, feed_dict={images: batch[0], labels: batch[1], keep_prob: 1.0})\n",
    "        log_writer.add_summary(s,i)\n",
    "\n",
    "    # Every step run training!\n",
    "    sess.run(train_step, feed_dict={images: batch[0], labels: batch[1], keep_prob: 0.5})\n",
    "\n",
    "# Compute & print out the final accuracy\n",
    "batch = mnist.test.next_batch(200)\n",
    "print('test accuracy %g' % sess.run(accuracy, feed_dict={images: batch[0], labels: batch[1], keep_prob: 1.0}))\n",
    "print(time.time() - start)"
   ]
  },
  {
   "cell_type": "markdown",
   "metadata": {},
   "source": [
    "So it took 23 seconds and the accuracy is just below 100%. Not too bad :)\n",
    "\n",
    "## Analysis\n",
    "The results look pretty good: the accuracy is almost 100% correct most of times. But it's _really_ important for you to double-check this by visually checking the results. I cannot stress this point! So let's do analysis. We will dump some MNIST images, correct labels, and prediction by the network."
   ]
  },
  {
   "cell_type": "code",
   "execution_count": 9,
   "metadata": {
    "scrolled": false
   },
   "outputs": [
    {
     "name": "stdout",
     "output_type": "stream",
     "text": [
      "Prediction\u001b[91m 7 \u001b[00mwith softmax prob\u001b[94m 0.999986 \u001b[00m\n"
     ]
    },
    {
     "data": {
      "image/png": "[encoded data removed]",
      "text/plain": [
       "<matplotlib.figure.Figure at 0x7fe9ae6b1dd0>"
      ]
     },
     "metadata": {},
     "output_type": "display_data"
    },
    {
     "name": "stdout",
     "output_type": "stream",
     "text": [
      "Prediction\u001b[91m 2 \u001b[00mwith softmax prob\u001b[94m 0.999862 \u001b[00m\n"
     ]
    },
    {
     "data": {
      "image/png": "[encoded data removed]",
      "text/plain": [
       "<matplotlib.figure.Figure at 0x7fe9801b4fd0>"
      ]
     },
     "metadata": {},
     "output_type": "display_data"
    },
    {
     "name": "stdout",
     "output_type": "stream",
     "text": [
      "Prediction\u001b[91m 1 \u001b[00mwith softmax prob\u001b[94m 0.993158 \u001b[00m\n"
     ]
    },
    {
     "data": {
      "image/png": "[encoded data removed]",
      "text/plain": [
       "<matplotlib.figure.Figure at 0x7fe9800e7cd0>"
      ]
     },
     "metadata": {},
     "output_type": "display_data"
    },
    {
     "name": "stdout",
     "output_type": "stream",
     "text": [
      "Prediction\u001b[91m 0 \u001b[00mwith softmax prob\u001b[94m 0.999947 \u001b[00m\n"
     ]
    },
    {
     "data": {
      "image/png": "[encoded data removed]",
      "text/plain": [
       "<matplotlib.figure.Figure at 0x7fe980092f10>"
      ]
     },
     "metadata": {},
     "output_type": "display_data"
    },
    {
     "name": "stdout",
     "output_type": "stream",
     "text": [
      "Prediction\u001b[91m 4 \u001b[00mwith softmax prob\u001b[94m 0.999807 \u001b[00m\n"
     ]
    },
    {
     "data": {
      "image/png": "[encoded data removed]",
      "text/plain": [
       "<matplotlib.figure.Figure at 0x7fe98016fa50>"
      ]
     },
     "metadata": {},
     "output_type": "display_data"
    },
    {
     "name": "stdout",
     "output_type": "stream",
     "text": [
      "Prediction\u001b[91m 1 \u001b[00mwith softmax prob\u001b[94m 0.996322 \u001b[00m\n"
     ]
    },
    {
     "data": {
      "image/png": "[encoded data removed]",
      "text/plain": [
       "<matplotlib.figure.Figure at 0x7fe9a80b1490>"
      ]
     },
     "metadata": {},
     "output_type": "display_data"
    },
    {
     "name": "stdout",
     "output_type": "stream",
     "text": [
      "Prediction\u001b[91m 4 \u001b[00mwith softmax prob\u001b[94m 0.996765 \u001b[00m\n"
     ]
    },
    {
     "data": {
      "image/png": "[encoded data removed]",
      "text/plain": [
       "<matplotlib.figure.Figure at 0x7fe98018ae50>"
      ]
     },
     "metadata": {},
     "output_type": "display_data"
    },
    {
     "name": "stdout",
     "output_type": "stream",
     "text": [
      "Prediction\u001b[91m 9 \u001b[00mwith softmax prob\u001b[94m 0.973803 \u001b[00m\n"
     ]
    },
    {
     "data": {
      "image/png": "[encoded data removed]",
      "text/plain": [
       "<matplotlib.figure.Figure at 0x7fe978102e50>"
      ]
     },
     "metadata": {},
     "output_type": "display_data"
    },
    {
     "name": "stdout",
     "output_type": "stream",
     "text": [
      "Prediction\u001b[91m 5 \u001b[00mwith softmax prob\u001b[94m 0.992624 \u001b[00m\n"
     ]
    },
    {
     "data": {
      "image/png": "[encoded data removed]",
      "text/plain": [
       "<matplotlib.figure.Figure at 0x7fe978028d10>"
      ]
     },
     "metadata": {},
     "output_type": "display_data"
    },
    {
     "name": "stdout",
     "output_type": "stream",
     "text": [
      "Prediction\u001b[91m 9 \u001b[00mwith softmax prob\u001b[94m 0.995477 \u001b[00m\n"
     ]
    },
    {
     "data": {
      "image/png": "[encoded data removed]",
      "text/plain": [
       "<matplotlib.figure.Figure at 0x7fe964548e90>"
      ]
     },
     "metadata": {},
     "output_type": "display_data"
    }
   ],
   "source": [
    "# Define operations: a softmax probability, and the prediction by the network\n",
    "with tf.variable_scope('analysis'):\n",
    "    softmax = tf.nn.softmax(logits=net)\n",
    "    prediction_label = tf.argmax(net,1)\n",
    "\n",
    "import numpy as np\n",
    "import matplotlib\n",
    "import matplotlib.pyplot as plt\n",
    "%matplotlib inline\n",
    "# Dump some output images\n",
    "prob_array, pred_label, = sess.run([softmax,prediction_label],feed_dict={images: mnist.test.images,keep_prob:1.0})\n",
    "for index in range(10):\n",
    "    print 'Prediction\\033[91m',pred_label[index],'\\033[00mwith softmax prob\\033[94m',prob_array[index][pred_label[index]],'\\033[00m'\n",
    "    plt.imshow(mnist.test.images[index].reshape([28,28]).astype(np.float32),cmap='gray',interpolation='none')\n",
    "    plt.axis('off')\n",
    "    plt.show()\n"
   ]
  },
  {
   "cell_type": "markdown",
   "metadata": {},
   "source": [
    "## Training speed \n",
    "The last training loop took about 23 seconds, which was not very fast (though that's relative). In fact, the most of time consumed was due to creating tensorboard log recorded every 20 steps. For the last exercise in this notebook, let's take out log creation and compare the speed."
   ]
  },
  {
   "cell_type": "code",
   "execution_count": 10,
   "metadata": {},
   "outputs": [
    {
     "name": "stdout",
     "output_type": "stream",
     "text": [
      "step 0, training accuracy 0.12\n",
      "step 100, training accuracy 0.94\n",
      "step 200, training accuracy 0.94\n",
      "step 300, training accuracy 0.92\n",
      "step 400, training accuracy 0.98\n",
      "step 500, training accuracy 0.96\n",
      "step 600, training accuracy 0.96\n",
      "step 700, training accuracy 0.92\n",
      "step 800, training accuracy 0.96\n",
      "step 900, training accuracy 0.9\n",
      "step 1000, training accuracy 1\n",
      "step 1100, training accuracy 0.96\n",
      "step 1200, training accuracy 0.98\n",
      "step 1300, training accuracy 0.98\n",
      "step 1400, training accuracy 1\n",
      "step 1500, training accuracy 0.98\n",
      "step 1600, training accuracy 0.96\n",
      "step 1700, training accuracy 0.94\n",
      "step 1800, training accuracy 1\n",
      "step 1900, training accuracy 1\n",
      "test accuracy 0.9801\n",
      "7.02695202827\n"
     ]
    }
   ],
   "source": [
    "# Let's time this\n",
    "import time\n",
    "start = time.time()\n",
    "\n",
    "# Ready! initialize and train for 5000 steps\n",
    "sess.run(tf.global_variables_initializer())\n",
    "for i in range(2000):\n",
    "\n",
    "    # Fetch data of 50 images\n",
    "    batch = mnist.train.next_batch(50)\n",
    "\n",
    "    # Every 100 steps, compute & print the accuracy of the network's prediction\n",
    "    if i % 100 == 0:\n",
    "        train_accuracy = sess.run(accuracy, feed_dict={images: batch[0], labels: batch[1], keep_prob: 1.0})\n",
    "        print('step %d, training accuracy %g' % (i, train_accuracy))\n",
    "    \n",
    "    # Every step run training!\n",
    "    sess.run(train_step, feed_dict={images: batch[0], labels: batch[1], keep_prob: 0.5})\n",
    "\n",
    "# Compute & print out the final accuracy\n",
    "batch = mnist.test.next_batch(200)\n",
    "print('test accuracy %g' % sess.run(accuracy, feed_dict={images: batch[0], labels: batch[1], keep_prob: 1.0}))\n",
    "print(time.time() - start)"
   ]
  },
  {
   "cell_type": "markdown",
   "metadata": {},
   "source": [
    "7 seconds ... which is more than factor of 3 faster than the last training loop! So, as said, most time was spent writing a training log during the last attempt.\n",
    "\n",
    "## Closing remark\n",
    "In this notebook we trained a very simple, 2 layers convolutional neural networks followed by 2 fully connected layers. This worked fairly well for MNIST digit classification. As a homework assignment, you might want to try:\n",
    "\n",
    "* Make a simple neural network (NN) with 2 fully connected layers. Train and see how well it works.\n",
    "* Get a digit image of 1, and use numpy operations to \"shift\" the location of digit to left or right. Compare how well CNNs vs. NN can handle the translation!"
   ]
  }
 ],
 "metadata": {
  "kernelspec": {
   "display_name": "Python 2",
   "language": "python",
   "name": "python2"
  },
  "language_info": {
   "codemirror_mode": {
    "name": "ipython",
    "version": 2
   },
   "file_extension": ".py",
   "mimetype": "text/x-python",
   "name": "python",
   "nbconvert_exporter": "python",
   "pygments_lexer": "ipython2",
   "version": "2.7.12"
  }
 },
 "nbformat": 4,
 "nbformat_minor": 2
}
