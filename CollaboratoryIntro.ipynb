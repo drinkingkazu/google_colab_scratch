{
  "nbformat": 4,
  "nbformat_minor": 0,
  "metadata": {
    "colab": {
      "name": "CollaboratoryIntro.ipynb",
      "version": "0.3.2",
      "views": {},
      "default_view": {},
      "provenance": [],
      "collapsed_sections": []
    },
    "kernelspec": {
      "name": "python2",
      "display_name": "Python 2"
    },
    "accelerator": "GPU"
  },
  "cells": [
    {
      "metadata": {
        "id": "mKpwWFCYGFAU",
        "colab_type": "text"
      },
      "cell_type": "markdown",
      "source": [
        "## Collaboratory Introduction\n",
        "Collaboratory is essentially jupyter notebook hosted by Google cloud machines. It comes with everyday python packages already installed, like numpy."
      ]
    },
    {
      "metadata": {
        "id": "kLyxfnIqGD6D",
        "colab_type": "code",
        "colab": {
          "autoexec": {
            "startup": false,
            "wait_interval": 0
          }
        }
      },
      "cell_type": "code",
      "source": [
        "import numpy as np"
      ],
      "execution_count": 0,
      "outputs": []
    },
    {
      "metadata": {
        "id": "CQHcvs-jGtdi",
        "colab_type": "text"
      },
      "cell_type": "markdown",
      "source": [
        "As it's google product, you can expect tensorflow :)"
      ]
    },
    {
      "metadata": {
        "id": "cX9Aa7nKGy5y",
        "colab_type": "code",
        "colab": {
          "autoexec": {
            "startup": false,
            "wait_interval": 0
          }
        }
      },
      "cell_type": "code",
      "source": [
        "import tensorflow as tf"
      ],
      "execution_count": 0,
      "outputs": []
    },
    {
      "metadata": {
        "id": "7mnq8h-hG16N",
        "colab_type": "text"
      },
      "cell_type": "markdown",
      "source": [
        "## Enabling GPU\n",
        "What's really amazing about collaboratory (or Google's generousity) is that there's also GPU option available.\n",
        "\n",
        "Follow on the collaboratory menu tabs, \"Runtime\" => \"Change runtime type\".\n",
        "\n",
        "<img src=\"https://www.nevis.columbia.edu/~kazuhiro/collab0.png\" width=\"50%\">\n",
        "\n",
        "### Choosing Runtime type\n",
        "Then you should see a pop-up where you can choose GPU.\n",
        "\n",
        "<img src=\"https://www.nevis.columbia.edu/~kazuhiro/collab1.png\" width=\"30%\"> run\n",
        "\n",
        "After you change your runtime, your runtime should automatically restart (which means information from executed cells disappear). ma\n",
        "\n",
        "### nvidia-smi\n",
        "If you own GPU you may be familiar with `nvidia-smi`, NVIDIA binary to print out gpu's utilization summary.\n",
        "\n",
        "`nvidia-smi` is not available by default but it is just a symbolic link away"
      ]
    },
    {
      "metadata": {
        "id": "hauEP36SOK6d",
        "colab_type": "code",
        "colab": {
          "autoexec": {
            "startup": false,
            "wait_interval": 0
          },
          "output_extras": [
            {
              "item_id": 1
            }
          ],
          "base_uri": "https://localhost:8080/",
          "height": 312
        },
        "outputId": "353b06b3-1796-4ebf-c3cc-16fa85004d66",
        "executionInfo": {
          "status": "ok",
          "timestamp": 1519751869665,
          "user_tz": 480,
          "elapsed": 644,
          "user": {
            "displayName": "Kazuhiro Terao",
            "photoUrl": "//lh5.googleusercontent.com/-_7jpuLVCIyg/AAAAAAAAAAI/AAAAAAAAAKA/FBb7ILdJ9e4/s50-c-k-no/photo.jpg",
            "userId": "101948890834834502389"
          }
        }
      },
      "cell_type": "code",
      "source": [
        "!ln -sf /opt/bin/nvidia-smi /usr/bin/nvidia-smi\n",
        "import commands\n",
        "print(commands.getoutput('nvidia-smi'))"
      ],
      "execution_count": 3,
      "outputs": [
        {
          "output_type": "stream",
          "text": [
            "Tue Feb 27 17:17:49 2018       \n",
            "+-----------------------------------------------------------------------------+\n",
            "| NVIDIA-SMI 375.51                 Driver Version: 375.51                    |\n",
            "|-------------------------------+----------------------+----------------------+\n",
            "| GPU  Name        Persistence-M| Bus-Id        Disp.A | Volatile Uncorr. ECC |\n",
            "| Fan  Temp  Perf  Pwr:Usage/Cap|         Memory-Usage | GPU-Util  Compute M. |\n",
            "|===============================+======================+======================|\n",
            "|   0  Tesla K80           Off  | 0000:00:04.0     Off |                    0 |\n",
            "| N/A   32C    P8    30W / 149W |      0MiB / 11439MiB |      0%      Default |\n",
            "+-------------------------------+----------------------+----------------------+\n",
            "                                                                               \n",
            "+-----------------------------------------------------------------------------+\n",
            "| Processes:                                                       GPU Memory |\n",
            "|  GPU       PID  Type  Process name                               Usage      |\n",
            "|=============================================================================|\n",
            "|  No running processes found                                                 |\n",
            "+-----------------------------------------------------------------------------+\n"
          ],
          "name": "stdout"
        }
      ]
    },
    {
      "metadata": {
        "id": "K5o0gXSmOVHX",
        "colab_type": "text"
      },
      "cell_type": "markdown",
      "source": [
        "Violla! I got K80 GPU w/ 12GB memory (thanks Google!).  \n",
        "\n",
        "Now if you want to acquire values in this summary text, youl probably want something else like `gputi`.\n",
        "\n",
        "Next section demonstrates how."
      ]
    },
    {
      "metadata": {
        "id": "TJh0jGe2Ncl6",
        "colab_type": "text"
      },
      "cell_type": "markdown",
      "source": [
        "## Pip: getting external packages\n",
        "Just like your own notebook, you can execute pip to locally install packages.\n",
        "\n",
        "Let's play by installing a few packages to print out our process memory usage..."
      ]
    },
    {
      "metadata": {
        "id": "V1wWpNHzGD_g",
        "colab_type": "code",
        "colab": {
          "autoexec": {
            "startup": false,
            "wait_interval": 0
          },
          "output_extras": [
            {
              "item_id": 3
            }
          ],
          "base_uri": "https://localhost:8080/",
          "height": 86
        },
        "outputId": "c342793d-bfa7-446c-c24a-a87072e7ed70",
        "executionInfo": {
          "status": "ok",
          "timestamp": 1519751872850,
          "user_tz": 480,
          "elapsed": 3159,
          "user": {
            "displayName": "Kazuhiro Terao",
            "photoUrl": "//lh5.googleusercontent.com/-_7jpuLVCIyg/AAAAAAAAAAI/AAAAAAAAAKA/FBb7ILdJ9e4/s50-c-k-no/photo.jpg",
            "userId": "101948890834834502389"
          }
        }
      },
      "cell_type": "code",
      "source": [
        "!pip install gputil\n",
        "!pip install psutil\n",
        "!pip install humanize"
      ],
      "execution_count": 4,
      "outputs": [
        {
          "output_type": "stream",
          "text": [
            "Requirement already satisfied: gputil in /usr/local/lib/python2.7/dist-packages\r\n",
            "Requirement already satisfied: numpy in /usr/local/lib/python2.7/dist-packages (from gputil)\n",
            "Requirement already satisfied: psutil in /usr/local/lib/python2.7/dist-packages\n",
            "Requirement already satisfied: humanize in /usr/local/lib/python2.7/dist-packages\n"
          ],
          "name": "stdout"
        }
      ]
    },
    {
      "metadata": {
        "id": "0trsNmJyQt_I",
        "colab_type": "text"
      },
      "cell_type": "markdown",
      "source": [
        "Well, as you can see, I already have them installed. \n",
        "\n",
        "But you should see installation log if you have never done it yet.\n",
        "\n",
        "Now `gputil`, `psutil`, and `humanize` are all availsle. \n",
        "\n",
        "Here's a simple function to print out memory usage on cpu and gpu."
      ]
    },
    {
      "metadata": {
        "id": "vSUyw1sgPtM8",
        "colab_type": "code",
        "colab": {
          "autoexec": {
            "startup": false,
            "wait_interval": 0
          },
          "output_extras": [
            {
              "item_id": 1
            }
          ],
          "base_uri": "https://localhost:8080/",
          "height": 52
        },
        "outputId": "c27f6470-44d1-4c67-a373-9c7b2d212465",
        "executionInfo": {
          "status": "ok",
          "timestamp": 1519751873143,
          "user_tz": 480,
          "elapsed": 248,
          "user": {
            "displayName": "Kazuhiro Terao",
            "photoUrl": "//lh5.googleusercontent.com/-_7jpuLVCIyg/AAAAAAAAAAI/AAAAAAAAAKA/FBb7ILdJ9e4/s50-c-k-no/photo.jpg",
            "userId": "101948890834834502389"
          }
        }
      },
      "cell_type": "code",
      "source": [
        "# Import packages\n",
        "import os,sys,humanize,psutil,GPUtil\n",
        "\n",
        "# Define function\n",
        "def mem_report():\n",
        "  print(\"CPU RAM Free: \" + humanize.naturalsize( psutil.virtual_memory().available ))\n",
        "  \n",
        "  GPUs = GPUtil.getGPUs()\n",
        "  for i, gpu in enumerate(GPUs):\n",
        "    print('GPU {:d} ... Mem Free: {:.0f}MB / {:.0f}MB | Utilization {:3.0f}%'.format(i, gpu.memoryFree, gpu.memoryTotal, gpu.memoryUtil*100))\n",
        "    \n",
        "# Execute function\n",
        "mem_report()"
      ],
      "execution_count": 5,
      "outputs": [
        {
          "output_type": "stream",
          "text": [
            "CPU RAM Free: 12.6 GB\n",
            "GPU 0 ... Mem Free: 11439MB / 11439MB | Utilization   0%\n"
          ],
          "name": "stdout"
        }
      ]
    }
  ]
}