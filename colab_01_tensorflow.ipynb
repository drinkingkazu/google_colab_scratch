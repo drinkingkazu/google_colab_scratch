{
 "cells": [
  {
   "cell_type": "markdown",
   "metadata": {},
   "source": [
    "# Tensorflow Beginner's Tutorial\n",
    "This is the beginner's tutorial into Tensorflow, a software toolkit for constructing and executing computational graph. We will closely follow one of tensorflow's turorial [available here](https://www.tensorflow.org/versions/r1.3/get_started/get_started). In this notebook we cover basic ingredients you have to know to use Tensorflow. By the end of this notebook, you will learn how to build a simple computational graph for a linear regression by fitting a straight line to data points.\n",
    "\n",
    "### Preparation?\n",
    "You can run this notebook on [google colaboratory](https://colab.research.google.com) and you do not need to run on your own machine (you certainly can use your machine if you prefer!). \n",
    "\n",
    "Let's start by importing tensorflow."
   ]
  },
  {
   "cell_type": "code",
   "execution_count": 1,
   "metadata": {},
   "outputs": [],
   "source": [
    "import tensorflow as tf"
   ]
  },
  {
   "cell_type": "markdown",
   "metadata": {},
   "source": [
    "## Constants\n",
    "Tensorflow builds a computational graph. Everything you define in tensorflow can be considered as an operation node in a graph. What the hell does that mean? Let's start with the simplest, a constant number."
   ]
  },
  {
   "cell_type": "code",
   "execution_count": 2,
   "metadata": {},
   "outputs": [],
   "source": [
    "node0 = tf.constant(1.0, dtype=tf.float32)\n",
    "node1 = tf.constant(2.0, dtype=tf.float32)"
   ]
  },
  {
   "cell_type": "markdown",
   "metadata": {},
   "source": [
    "We just defined 2 nodes (`node0` and `node1`) for very simple operation: _return constant values_. Let's check their type and also string descriptions."
   ]
  },
  {
   "cell_type": "code",
   "execution_count": 3,
   "metadata": {},
   "outputs": [
    {
     "name": "stdout",
     "output_type": "stream",
     "text": [
      "Type: <class 'tensorflow.python.framework.ops.Tensor'>\n",
      "Descr: Tensor(\"Const:0\", shape=(), dtype=float32)\n"
     ]
    }
   ],
   "source": [
    "print 'Type:', type(node0)\n",
    "print 'Descr:', node0"
   ]
  },
  {
   "cell_type": "markdown",
   "metadata": {},
   "source": [
    "## Session\n",
    "\"Execution\" of those node means simply return constant values. In tensorflow, an execution of a graph is done using a _session_. Here's an example of how."
   ]
  },
  {
   "cell_type": "code",
   "execution_count": 4,
   "metadata": {},
   "outputs": [
    {
     "data": {
      "text/plain": [
       "1.0"
      ]
     },
     "execution_count": 4,
     "metadata": {},
     "output_type": "execute_result"
    }
   ],
   "source": [
    "sess = tf.InteractiveSession()\n",
    "sess.run(node0)"
   ]
  },
  {
   "cell_type": "markdown",
   "metadata": {},
   "source": [
    "You can also evaluate multiple operations at once. "
   ]
  },
  {
   "cell_type": "code",
   "execution_count": 5,
   "metadata": {},
   "outputs": [
    {
     "data": {
      "text/plain": [
       "[1.0, 2.0]"
      ]
     },
     "execution_count": 5,
     "metadata": {},
     "output_type": "execute_result"
    }
   ],
   "source": [
    "sess.run([node0,node1])"
   ]
  },
  {
   "cell_type": "markdown",
   "metadata": {},
   "source": [
    "## Addition of constants: simplest graph\n",
    "Let's build a simple computation graph: addition of two constants."
   ]
  },
  {
   "cell_type": "code",
   "execution_count": 6,
   "metadata": {},
   "outputs": [
    {
     "data": {
      "text/plain": [
       "[3.0, 3.0]"
      ]
     },
     "execution_count": 6,
     "metadata": {},
     "output_type": "execute_result"
    }
   ],
   "source": [
    "node_addition0 = tf.add(node0,node1)\n",
    "node_addition1 = node0 + node1\n",
    "sess.run([node_addition0, node_addition1])"
   ]
  },
  {
   "cell_type": "markdown",
   "metadata": {},
   "source": [
    "You can see we could use either tf.add operation or simply `+` which maps to the same operation (`+` operator of `Tensor`, the type of `node0` and `node1`, is internally defined for convenience)."
   ]
  },
  {
   "cell_type": "markdown",
   "metadata": {},
   "source": [
    "## Placeholder\n",
    "This is something you will use a lot in future if you stick with tensorflow. In the previous example, we did an addition of two constant values. However, it may be more useful to have an abstract \"addition\" operation for any values instead of constants. A placeholder is a `Tensor` which only defines the shape and not a value. "
   ]
  },
  {
   "cell_type": "code",
   "execution_count": 7,
   "metadata": {},
   "outputs": [],
   "source": [
    "node_placeholder0 = tf.placeholder(dtype=tf.float32)\n",
    "node_placeholder1 = tf.placeholder(dtype=tf.float32)"
   ]
  },
  {
   "cell_type": "markdown",
   "metadata": {},
   "source": [
    "We just defined placeholders that do not specify values of operation. Unlike constants, therefore, executing these operations require specification of values. This can be provided at _run time_ of a session."
   ]
  },
  {
   "cell_type": "code",
   "execution_count": 8,
   "metadata": {},
   "outputs": [
    {
     "name": "stdout",
     "output_type": "stream",
     "text": [
      "[array(0., dtype=float32)]\n"
     ]
    }
   ],
   "source": [
    "print sess.run([node_placeholder0], feed_dict={node_placeholder0 : 0})"
   ]
  },
  {
   "cell_type": "markdown",
   "metadata": {},
   "source": [
    "Below is how a simple addition graph looks like"
   ]
  },
  {
   "cell_type": "code",
   "execution_count": 9,
   "metadata": {},
   "outputs": [
    {
     "name": "stdout",
     "output_type": "stream",
     "text": [
      "3.0\n"
     ]
    }
   ],
   "source": [
    "node_addition2 = node_placeholder0 + node_placeholder1\n",
    "print sess.run(node_addition2, feed_dict={node_placeholder0: 1, node_placeholder1: 2})"
   ]
  },
  {
   "cell_type": "markdown",
   "metadata": {},
   "source": [
    "## Variables\n",
    "`Variable` is yet another type of tensor. It can hold a value which is allowed to change, unlike constant. Of course, you can specify the initialization value or even operation to feed the initial value."
   ]
  },
  {
   "cell_type": "code",
   "execution_count": 10,
   "metadata": {
    "scrolled": false
   },
   "outputs": [],
   "source": [
    "slope = tf.Variable(0.3, dtype=tf.float32)\n",
    "const = tf.Variable(-0.3, dtype=tf.float32)\n",
    "x     = tf.placeholder(dtype=tf.float32)\n",
    "prediction = slope * x + const"
   ]
  },
  {
   "cell_type": "markdown",
   "metadata": {},
   "source": [
    "If we try to evaluate `y` now, we will get an error message that says \"cannot use variables without initialization\". This is very important: all these tensors are _operations_ and they have a notion of _state_. They need to be _initialized_ before used. Constants are initialized when it is defined. Variables, on the other hand, are all initialized together like this:"
   ]
  },
  {
   "cell_type": "code",
   "execution_count": 11,
   "metadata": {},
   "outputs": [],
   "source": [
    "init_operation = tf.global_variables_initializer()\n",
    "sess.run(init_operation)"
   ]
  },
  {
   "cell_type": "markdown",
   "metadata": {},
   "source": [
    "Now we can evaluate `prediction`."
   ]
  },
  {
   "cell_type": "code",
   "execution_count": 12,
   "metadata": {},
   "outputs": [
    {
     "name": "stdout",
     "output_type": "stream",
     "text": [
      "[0.]\n"
     ]
    }
   ],
   "source": [
    "print sess.run(prediction, feed_dict={x: [1.]})"
   ]
  },
  {
   "cell_type": "markdown",
   "metadata": {},
   "source": [
    "Or multiple `y` for multiple `x`. Tensorflow is good at parallelizing computations, a benefit of computational graph model."
   ]
  },
  {
   "cell_type": "code",
   "execution_count": 13,
   "metadata": {},
   "outputs": [
    {
     "name": "stdout",
     "output_type": "stream",
     "text": [
      "[-0.3  0.   0.3]\n"
     ]
    }
   ],
   "source": [
    "print sess.run(prediction, feed_dict={x: [0., 1., 2.]})"
   ]
  },
  {
   "cell_type": "markdown",
   "metadata": {},
   "source": [
    "One more thing about initialization. Note that I mentioned that we can specify an operation to inigialize a variable as opposed to giving an actual value. This is what you typically do when you want to initialize variables used to train a machine learning algorithm. Such an operation could be gaussian distribution function. Running `init_operation` then will draw values from a gaussian distribution to fill the initial values.\n",
    "\n",
    "## Linear regression: error calculation\n",
    "Having a linear model (`prediction`), we can next learn linear regression. Our approach is to define an error, and minimize the error. Let's first start by defining an error."
   ]
  },
  {
   "cell_type": "code",
   "execution_count": 14,
   "metadata": {},
   "outputs": [
    {
     "name": "stdout",
     "output_type": "stream",
     "text": [
      "3.89\n"
     ]
    }
   ],
   "source": [
    "# This is the answer = true value\n",
    "y      = tf.placeholder(tf.float32)\n",
    "# This is squared distance between the answer and prediction (y)\n",
    "errors = tf.square(prediction - y)\n",
    "# This is a sum of errors over multiple data points\n",
    "loss   = tf.reduce_sum(errors)\n",
    "\n",
    "print sess.run(loss, feed_dict={x:[1.,2.],y:[1.,2.]})"
   ]
  },
  {
   "cell_type": "markdown",
   "metadata": {},
   "source": [
    "Just to be clear, what we did is same as the following line"
   ]
  },
  {
   "cell_type": "code",
   "execution_count": 15,
   "metadata": {},
   "outputs": [
    {
     "name": "stdout",
     "output_type": "stream",
     "text": [
      "3.8899999999999997\n"
     ]
    }
   ],
   "source": [
    "import numpy as np\n",
    "error0 = np.power((0.3 * 1. - 0.3) - 1., 2) # for data point (x,y) = (1., 1.)\n",
    "error1 = np.power((0.3 * 2. - 0.3) - 2., 2) # for data point (x,y) = (2., 2.)\n",
    "average_error = (error0 + error1)\n",
    "print average_error"
   ]
  },
  {
   "cell_type": "markdown",
   "metadata": {},
   "source": [
    "## Linear regression: optimization\n",
    "Now that we defined an error, the next step is to learn how to minimize this error. This process, called _regression_, is an iterative process of calculating an error and change parameters (variables) accordingly. A single execution of this process is often called a _step_ or <strong>_train step_</strong>. A function to calculate how much change should be made in what direction is called an _optimizer_. There are multiple optimizers available in tensorflow but covering them is not in the scope of this notebook. We will pick one of the most popular one, called <strong>GradientDescentOptimizer</strong>."
   ]
  },
  {
   "cell_type": "code",
   "execution_count": 16,
   "metadata": {},
   "outputs": [],
   "source": [
    "optimizer = tf.train.GradientDescentOptimizer(0.01)\n",
    "train = optimizer.minimize(loss)"
   ]
  },
  {
   "cell_type": "markdown",
   "metadata": {},
   "source": [
    "The argument value 0.01 in GradientDescentOptimizer is called a <strong>_learning rate_</strong> and is responsible for determining how much change should be made to the values of variables. `train` is an operation that changes the variables in the computation graph in order to minimize the loss. Let's run a single train step."
   ]
  },
  {
   "cell_type": "code",
   "execution_count": 17,
   "metadata": {},
   "outputs": [
    {
     "name": "stdout",
     "output_type": "stream",
     "text": [
      "Loss: 2.8970642\n"
     ]
    }
   ],
   "source": [
    "# Run a train step\n",
    "sess.run(train, feed_dict={x: [1.,2.], y:[1.,2.]})\n",
    "# Let's see if the loss value is decreased with the current model\n",
    "print 'Loss:', sess.run(loss, feed_dict={x:[1.,2.],y:[1.,2.]})"
   ]
  },
  {
   "cell_type": "markdown",
   "metadata": {},
   "source": [
    "Hooray! We see that `train` operation changed variables, and loss seems to be smaller. Let's run this for many steps."
   ]
  },
  {
   "cell_type": "code",
   "execution_count": 18,
   "metadata": {},
   "outputs": [
    {
     "name": "stdout",
     "output_type": "stream",
     "text": [
      "Loss: 5.346064e-06\n"
     ]
    }
   ],
   "source": [
    "for _ in xrange(1000):\n",
    "    sess.run(train, feed_dict={x: [1.,2.], y:[1.,2.]})\n",
    "print 'Loss:', sess.run(loss, feed_dict={x: [1.,2.], y:[1.,2.]})"
   ]
  },
  {
   "cell_type": "markdown",
   "metadata": {},
   "source": [
    "Now the error is very small. We fit a line to two points: (1,1) and (2,2). So we expect (`slope`,`const`) to be (1.,0.). Let's take a look!"
   ]
  },
  {
   "cell_type": "code",
   "execution_count": 19,
   "metadata": {},
   "outputs": [
    {
     "name": "stdout",
     "output_type": "stream",
     "text": [
      "[0.9968176, 0.005149256]\n"
     ]
    }
   ],
   "source": [
    "print sess.run([slope,const])"
   ]
  },
  {
   "cell_type": "markdown",
   "metadata": {},
   "source": [
    "In this notebook we learned basic ingredients of building a computational graph.\n",
    "* Session\n",
    "* Constant\n",
    "* Variable\n",
    "* Placeholder\n",
    "* Optimizer\n",
    "You are ready to attack the next level example of MNIST."
   ]
  }
 ],
 "metadata": {
  "kernelspec": {
   "display_name": "Python 2",
   "language": "python",
   "name": "python2"
  },
  "language_info": {
   "codemirror_mode": {
    "name": "ipython",
    "version": 2
   },
   "file_extension": ".py",
   "mimetype": "text/x-python",
   "name": "python",
   "nbconvert_exporter": "python",
   "pygments_lexer": "ipython2",
   "version": "2.7.12"
  }
 },
 "nbformat": 4,
 "nbformat_minor": 2
}
